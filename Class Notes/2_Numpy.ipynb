{
  "nbformat": 4,
  "nbformat_minor": 0,
  "metadata": {
    "kernelspec": {
      "display_name": "Python 3",
      "language": "python",
      "name": "python3"
    },
    "language_info": {
      "codemirror_mode": {
        "name": "ipython",
        "version": 3
      },
      "file_extension": ".py",
      "mimetype": "text/x-python",
      "name": "python",
      "nbconvert_exporter": "python",
      "pygments_lexer": "ipython3",
      "version": "3.7.3"
    },
    "colab": {
      "name": "2_Numpy.ipynb",
      "provenance": [],
      "collapsed_sections": [],
      "toc_visible": true
    }
  },
  "cells": [
    {
      "cell_type": "markdown",
      "metadata": {
        "id": "wC8zJ8s_uS4z"
      },
      "source": [
        "# Numpy: Vectors and Arrays #\n",
        "\n"
      ]
    },
    {
      "cell_type": "markdown",
      "metadata": {
        "id": "xm2KZ7s4uS43"
      },
      "source": [
        "## Table of Contents\n",
        "\n",
        "1. [**Introduction**](#Intro)\n",
        "2. [**N-Dimensional Arrays**](#NDArray)\n",
        "\n",
        "    2.1 [**Creating ndarrays**](#ndcreate)\n",
        "    \n",
        "    2.2 [**Ndarrays datatypes**](#nddata)\n",
        "\n",
        "3. [**Slicing and Indexing**](#SlcIndx)\n",
        "    \n",
        "4. [**Element-Wise Mathematical Oprations on Arrays**](#MathOper)\n",
        "\n",
        "5. [**Linear Algebra**](#LinAlg)\n",
        "\n",
        "6. [**Statistical Methods**](#StatMethod)\n",
        "\n",
        "7. [**Miscellaneous**](#Misc)"
      ]
    },
    {
      "cell_type": "markdown",
      "metadata": {
        "id": "I6q_rw88uS45"
      },
      "source": [
        "## 1. Introduction <a name=\"Intro\"> </a>\n",
        "\n",
        "__NumPy__, short for Numerical Python, is one of the most important foundational packages for numerical computing in Python. Most computational packages providing scientific functionality use NumPy’s array objects. One of the reasons NumPy is so important for numerical computations in Python is because it is designed for efficiency on large arrays of data.\n",
        "\n",
        "While NumPy by itself does not provide modeling or scientific functionality, having an understanding of NumPy arrays and array-oriented computing will help you use tools with array-oriented semantics, like pandas, much more effectively.\n",
        "\n",
        "NumPy operations perform complex computations on entire arrays without the need for Python for loops.\n",
        "\n",
        "Let's import the library and start learning how to work with it! "
      ]
    },
    {
      "cell_type": "code",
      "metadata": {
        "id": "prpiiwoxuS47"
      },
      "source": [
        "import numpy as np     # importing the library"
      ],
      "execution_count": null,
      "outputs": []
    },
    {
      "cell_type": "markdown",
      "metadata": {
        "id": "wAbvC05MuS5L"
      },
      "source": [
        "## 2. N-Dimensional Arrays <a name=\"NDArray\"></a>\n",
        "\n",
        "One of the key features of NumPy is its N-dimensional array object, or ndarray, which is a fast, flexible container for large datasets in Python. Arrays enable you to perform mathematical operations on whole blocks of data using similar syntax to the equivalent operations between scalar elements.\n",
        "\n",
        "### 2.1 Creating ndarrays <a name=\"ndcreate\"></a>\n",
        "The easiest way to create an array is to use the _array_ function from _numpy_ library."
      ]
    },
    {
      "cell_type": "code",
      "metadata": {
        "id": "_SB_5p_AuS5M"
      },
      "source": [
        "data1=np.array([1,2,3,4,5])  # 1-dimensional array\n",
        "print(data1.shape)  # dimension of the array\n",
        "print(data1)"
      ],
      "execution_count": null,
      "outputs": []
    },
    {
      "cell_type": "code",
      "metadata": {
        "id": "9A4P-P9luS5X"
      },
      "source": [
        "data2=np.array( [ [1,2,3,4,5],[6,7,8,9,10] ])  # 2-dimensional array\n",
        "print(data2.shape)  # dimension of the array\n",
        "print(data2)"
      ],
      "execution_count": null,
      "outputs": []
    },
    {
      "cell_type": "code",
      "metadata": {
        "id": "2PYAbvKpuS5e"
      },
      "source": [
        "data22=np.array( [[1,2,3,4,5],[6,7,8,9,10],[11,12,13,14,15]])  # 2-dimensional array\n",
        "print(data22.shape)  # dimension of the array\n",
        "print(data22)"
      ],
      "execution_count": null,
      "outputs": []
    },
    {
      "cell_type": "code",
      "metadata": {
        "id": "0YvLNICsuS5n"
      },
      "source": [
        "lst=[[4,6,1],[7,6,12]]\n",
        "dataarray=np.array(lst)  # 2-dimensional array\n",
        "print(dataarray.shape)\n",
        "print(dataarray)"
      ],
      "execution_count": null,
      "outputs": []
    },
    {
      "cell_type": "code",
      "metadata": {
        "id": "PSXOEXo5uS5v"
      },
      "source": [
        "arr3d = np.array([[ [1, 2, 3], [4, 5, 6] ], [[7, 8, 9], [10, 11, 12]]])   # 3-dimensional array\n",
        "print(arr3d.shape)\n",
        "print(arr3d)"
      ],
      "execution_count": null,
      "outputs": []
    },
    {
      "cell_type": "code",
      "metadata": {
        "id": "z5b2RgShuS51"
      },
      "source": [
        "lst2=['string1','string2','string3']\n",
        "stringarray=np.array(lst2)  # 1-dimensional array\n",
        "print(stringarray.shape)\n",
        "print(stringarray)"
      ],
      "execution_count": null,
      "outputs": []
    },
    {
      "cell_type": "markdown",
      "metadata": {
        "id": "XpZK0VHWuS5-"
      },
      "source": [
        "There are also other functions in _Numpy_ to create an array.\n",
        "![alt text](https://docs.google.com/uc?export=download&id=1uvCMlLGAFZl7WpVhXgYK4Lcbe3sjoInr)"
      ]
    },
    {
      "cell_type": "code",
      "metadata": {
        "id": "2coITdeRr3BO"
      },
      "source": [
        "range(0,10,2)"
      ],
      "execution_count": null,
      "outputs": []
    },
    {
      "cell_type": "code",
      "metadata": {
        "id": "a_Y5D-tAr-dl"
      },
      "source": [
        "np.arange(0,10,0.1)"
      ],
      "execution_count": null,
      "outputs": []
    },
    {
      "cell_type": "code",
      "metadata": {
        "id": "f6Y2XWY_uS5_"
      },
      "source": [
        "array1=np.ones((3,3)) # a 3x3 matrix (2D array) with elements of 1\n",
        "print(array1)\n",
        "print('')    # additional space for better print\n",
        "array2=np.eye(3,3) # a 3x3 identity matrix (2D array)\n",
        "print(array2)"
      ],
      "execution_count": null,
      "outputs": []
    },
    {
      "cell_type": "code",
      "metadata": {
        "id": "IfsEw5jUsYIt"
      },
      "source": [
        "np.ones_like(array2)"
      ],
      "execution_count": null,
      "outputs": []
    },
    {
      "cell_type": "code",
      "metadata": {
        "id": "Og3HGM7-uS6L"
      },
      "source": [
        "array5=np.empty((2,2))\n",
        "print(array5)"
      ],
      "execution_count": null,
      "outputs": []
    },
    {
      "cell_type": "markdown",
      "metadata": {
        "id": "owSUviDquS6O"
      },
      "source": [
        "### 2.2 Ndarrays datatypes <a name=\"nddata\"></a>"
      ]
    },
    {
      "cell_type": "markdown",
      "metadata": {
        "id": "lNIMJP7vuS6R"
      },
      "source": [
        "The _data type_ or _dtype_ is a special object containing the information (or metadata, data about data) the ndarray needs to interpret a chunk of memory as a particular type of data. \n",
        "![alt text](https://docs.google.com/uc?export=download&id=1-Fa_RZxGn45mbc2dzFpCVUSluEb88ZPV)"
      ]
    },
    {
      "cell_type": "code",
      "metadata": {
        "id": "0EEXrQXfuS6S"
      },
      "source": [
        "arr1 = np.array([1, 2, 3], dtype=np.float64)\n",
        "arr2 = np.array([1, 2, 3], dtype=np.int32)"
      ],
      "execution_count": null,
      "outputs": []
    },
    {
      "cell_type": "code",
      "metadata": {
        "id": "8wrbJ688uS6Y"
      },
      "source": [
        "print(arr1.dtype)              \n",
        "print(arr2.dtype)"
      ],
      "execution_count": null,
      "outputs": []
    },
    {
      "cell_type": "markdown",
      "metadata": {
        "id": "3PrLlb3XuS6d"
      },
      "source": [
        "Don’t worry about memorizing the NumPy dtypes! It’s often only necessary to care about the general kind of data you’re dealing with, whether floating point, complex, integer, boolean, string.\n",
        "\n",
        "You can convert one data type to another using <font color=green> astype </font> method."
      ]
    },
    {
      "cell_type": "code",
      "metadata": {
        "id": "CrG8nCjKuS6f"
      },
      "source": [
        "arr = np.array([1, 2, 3, 4, 5])  # Python typically tries to find the best data type for the data automatically\n",
        "print(arr.dtype)"
      ],
      "execution_count": null,
      "outputs": []
    },
    {
      "cell_type": "code",
      "metadata": {
        "id": "Nvpf7K6puS6k"
      },
      "source": [
        "float_arr = arr.astype(np.float64)\n",
        "print(float_arr.dtype)"
      ],
      "execution_count": null,
      "outputs": []
    },
    {
      "cell_type": "markdown",
      "metadata": {
        "id": "dVsRXT2vuS6p"
      },
      "source": [
        "In case you were wondering and want to know the hierarchical relationship between these data types, see the figure below. \n",
        "![alt text](https://docs.google.com/uc?export=download&id=1ONBoyjQUlj4ERaz5I9VRddAnUR1tP9Im)"
      ]
    },
    {
      "cell_type": "markdown",
      "metadata": {
        "id": "hz3glPYguS6q"
      },
      "source": [
        "<font color='red'> __Question (1)__ </font>: Create a 2-dimensional 5 by 8 array with elements of 1. Data type of the elements should be _float64_."
      ]
    },
    {
      "cell_type": "code",
      "metadata": {
        "id": "b85hi1JXuS6s"
      },
      "source": [
        "## In-Class Assignment\n"
      ],
      "execution_count": null,
      "outputs": []
    },
    {
      "cell_type": "markdown",
      "metadata": {
        "id": "k3_xN_CluS6x"
      },
      "source": [
        "## 3. Slicing and Indexing <a name=\"SlcIndx\"></a>\n",
        "\n",
        "Essentially, we need to access specific elements in an array or want to take a subset of a matrix or vector very often. __NumPy__ array indexing is a rich topic, as there are many ways you may want to select a subset of your data or individual elements.\n",
        "\n",
        "<u>For vectors (1D arrays)</u>:"
      ]
    },
    {
      "cell_type": "code",
      "metadata": {
        "id": "b0plBT-WuS6x"
      },
      "source": [
        "Vect1=np.array([12,14,6,22,45,89,10])\n",
        "print('First Element:',Vect1[0])                         # first element of the vector\n",
        "print('Third Element:',Vect1[2])                         # 3rd element of the vector\n",
        "print('Elements 3 and 4:',Vect1[2:4])                    # elements 3 and 4\n",
        "print('Elements 2 to 5:',Vect1[1:5])                     # elements 2,3,4,5\n",
        "print('All the elements:', Vect1[:])                     # all elements\n",
        "print('All elements after the 2nd element:',Vect1[2:])\n",
        "\n",
        "print('----------')# just a separator!\n",
        "\n",
        "print('Last element:',Vect1[-1])                              # last element of the vector\n",
        "print('Fourth element from the end:',Vect1[-4])               # element -4\n",
        "print('Fourth and third elements from the end',Vect1[-4:-2])  # elements -3 and -4"
      ],
      "execution_count": null,
      "outputs": []
    },
    {
      "cell_type": "code",
      "metadata": {
        "id": "de8tpmhovUQ0"
      },
      "source": [
        ""
      ],
      "execution_count": null,
      "outputs": []
    },
    {
      "cell_type": "markdown",
      "metadata": {
        "id": "14101IVVuS63"
      },
      "source": [
        "<u>For matrices (2D arrays)</u>:\n",
        "\n",
        "When dealing with 2D arrays, we have more options and each index is a one-dimensional array itself. (add figure 4-1 from the book)"
      ]
    },
    {
      "cell_type": "code",
      "metadata": {
        "id": "dM40jkJzuS64"
      },
      "source": [
        "A = np.array([ [12,23,45,67],[93,24,55,65] ,[39,75,18,70] ,[11,55,40,62] ])  # defining a 4 by 4 matrix\n",
        "print('Matrix A is:\\n',A)\n",
        "\n",
        "print('')\n",
        "\n",
        "print('Third row:',A[2])               # third row of the matrix\n",
        "print('Element[0,0]:',A[0,0])          # element  [0,0]\n",
        "print('Element[1,2]:',A[1,2])          # element  [1,2]\n",
        "print('Slice[1-3,2-4]:\\n',A[1:3,2:4])  # elements [1:3,2:4]\n",
        "print('Slice[:,2]:\\n',A[:,2])          # All rows of the third column\n",
        "print('Slice[1:,2:]:\\n',A[1:,2:])   \n",
        "print('Slice[1,:2]:\\n',A[1,:2])        # Second row but only the first two columns "
      ],
      "execution_count": null,
      "outputs": []
    },
    {
      "cell_type": "markdown",
      "metadata": {
        "id": "9gKq6DYTuS68"
      },
      "source": [
        "Here is a general graphical review for slicing and indexing of a 2D array.\n",
        "\n",
        "![alt text](https://docs.google.com/uc?export=download&id=1dfWVeTADJimsRszWGtqpFEPmAFLqc2-n)\n"
      ]
    },
    {
      "cell_type": "markdown",
      "metadata": {
        "id": "EiiX3qFDuS6-"
      },
      "source": [
        "You can use slicing and indexing to replace values in an array:"
      ]
    },
    {
      "cell_type": "code",
      "metadata": {
        "id": "TPIQyBPQuS6_"
      },
      "source": [
        "A = np.array([ [12,23,45,67],[93,24,55,65] ,[39,75,18,70] ,[11,55,40,62] ])  # defining a 4 by 4 matrix\n",
        "print(A)\n",
        "print('-------------')\n",
        "A[1,3]=0             # replacing the element in the second row, fourth column with zero \n",
        "print(A)\n",
        "print('-------------')\n",
        "A[2:4,3]=100         # replacing the elements in third and fourth rows and fourth column with 100\n",
        "print(A)             "
      ],
      "execution_count": null,
      "outputs": []
    },
    {
      "cell_type": "markdown",
      "metadata": {
        "id": "eWHnmrwsuS7E"
      },
      "source": [
        "<font color='red'> __Question (2)__</font>: Consider matrix\n",
        "$A=\\begin{bmatrix} 12 & 22 & 43 & 110 & 28\\\\ 18 & 120 & 77 & 90 & 45\\\\ 76 & 88 & 42 & 20 & 35\\end{bmatrix}$\n",
        "\n",
        "- Print the element on the 2$^{nd}$ row and 3$^{rd}$ column\n",
        "- Make a slice that has the elements on rows 2 and 3 and columns 1 and 2\n",
        "- Make another slice that has all the elements on the rows after the 2$^{nd}$ row. \n",
        "- Replace the value of __120__ in this matrix with 0. (use slicing and do not re-write the whole matrix)"
      ]
    },
    {
      "cell_type": "code",
      "metadata": {
        "id": "K3GtObHQuS7E"
      },
      "source": [
        "## In-Class Assignment\n"
      ],
      "execution_count": null,
      "outputs": []
    },
    {
      "cell_type": "markdown",
      "metadata": {
        "id": "cOQ3kU9VuS7K"
      },
      "source": [
        "## 4. Element-Wise Mathematical Operations on Arrays <a name=\"MathOper\"></a>\n",
        "\n",
        "Arrays are important because they enable you to express batch operations on data without writing any _for loops_. NumPy users call this _vectorization_. Any arithmetic operations between equal-size arrays applies the operation element-wise. Vectorization can save a lot of time when writing codes."
      ]
    },
    {
      "cell_type": "code",
      "metadata": {
        "id": "1fjWy1gYuS7K"
      },
      "source": [
        "vec1=np.array([12,45,120,50])\n",
        "vec2=np.array([40,80,22,10])\n",
        "mult1=vec1*vec2                  # Element-wise multiplication\n",
        "print(mult1)"
      ],
      "execution_count": null,
      "outputs": []
    },
    {
      "cell_type": "code",
      "metadata": {
        "id": "U2p27Xb-uS7Q"
      },
      "source": [
        "# Same story about matrices\n",
        "mat1=np.array([[12,34,50],[20,87,18]])\n",
        "mat2=np.array([[90,76,33],[45,30,73]])\n",
        "mult2=mat1*mat2                 # Element-wise multiplication, equivalent:  np.multiply(mat1,mat2)\n",
        "print('Matrix1=\\n',mat1)\n",
        "print('Matrix2=\\n',mat2)\n",
        "print('')\n",
        "print(mult2)"
      ],
      "execution_count": null,
      "outputs": []
    },
    {
      "cell_type": "markdown",
      "metadata": {
        "id": "VRbdksJAuS7W"
      },
      "source": [
        "We can also do other element-wise operatations such as division, subtraction, addition, raising to a power, etc"
      ]
    },
    {
      "cell_type": "code",
      "metadata": {
        "id": "WKs6IsaKuS7X"
      },
      "source": [
        "print(vec1)\n",
        "print(vec2)\n",
        "print('')\n",
        "print(vec1/vec2)     # equivalent np.divide(vec1,vec2)\n",
        "print(vec1-vec2)\n",
        "print(vec1**2)\n",
        "print(1/vec1)"
      ],
      "execution_count": null,
      "outputs": []
    },
    {
      "cell_type": "markdown",
      "metadata": {
        "id": "dhQ_2DKGuS7d"
      },
      "source": [
        "A __universal function__, or _ufunc_ , is a function that performs element-wise operations on data in ndarrays. Here is a full list of these functions you might use in Python.\n",
        "\n",
        "![alt text](https://docs.google.com/uc?export=download&id=1qP4SArijd_2BngD1kZPG3BxC1_8Z16Oh)\n",
        "![alt text](https://docs.google.com/uc?export=download&id=1ZcD4ECjVcYv3ZOi3nMJfoNQZBt9fQLoC)\n"
      ]
    },
    {
      "cell_type": "code",
      "metadata": {
        "id": "susImdYzuS7e"
      },
      "source": [
        "arr = np.arange(1,5,1)   # Creating a vector with elements from 0 to 5 with step=1\n",
        "print(arr)"
      ],
      "execution_count": null,
      "outputs": []
    },
    {
      "cell_type": "code",
      "metadata": {
        "id": "_dYm35Pj2hTf"
      },
      "source": [
        "np.min(arr)"
      ],
      "execution_count": null,
      "outputs": []
    },
    {
      "cell_type": "code",
      "metadata": {
        "id": "HreHfhy3uS7g"
      },
      "source": [
        "print(np.sqrt(arr))  # square of each element\n",
        "print(np.exp(arr))   # Exponential values\n",
        "print(np.max(arr))   # maximum value in the vector\n",
        "print(np.min(arr))   # minimum value in the vector\n",
        "print(np.log10(arr)) # logarithm\n",
        "print(np.log(arr))   # natural logarithm"
      ],
      "execution_count": null,
      "outputs": []
    },
    {
      "cell_type": "code",
      "metadata": {
        "id": "M601KXHsuS7o"
      },
      "source": [
        "print(np.pi)           # printing pi number\n",
        "print(np.power(arr,2)) # raise to the power of 2\n",
        "print(arr**2)"
      ],
      "execution_count": null,
      "outputs": []
    },
    {
      "cell_type": "markdown",
      "metadata": {
        "id": "JVmhQlOMuS7s"
      },
      "source": [
        "<font color='red'> __Question (3)__</font>: Define a 1D array with elements fom -5 to 5 with step size=0.5. Then multiply the elements by number $\\pi$. Finally, calculate the __Sine__ values of the elements."
      ]
    },
    {
      "cell_type": "code",
      "metadata": {
        "id": "fB5KkC0YuS7t"
      },
      "source": [
        "## In-Class Assignment\n"
      ],
      "execution_count": null,
      "outputs": []
    },
    {
      "cell_type": "markdown",
      "metadata": {
        "id": "h8_pkCUWuS7y"
      },
      "source": [
        "## 5. Linear Algebra <a name=\"LinAlg\"></a>\n",
        "\n",
        "Linear algebra, like matrix multiplication, decompositions, determinants, and other square matrix math is an important part of any array library."
      ]
    },
    {
      "cell_type": "code",
      "metadata": {
        "id": "La2CG1lVuS7z"
      },
      "source": [
        "x = np.array([[1., 2., 3.], [4., 5., 6.]])\n",
        "y = np.array([[6., 23.], [-1, 7], [8, 9]])\n",
        "\n",
        "# Matrix Multiplication\n",
        "xy=np.dot(x,y)\n",
        "print(xy)\n"
      ],
      "execution_count": null,
      "outputs": []
    },
    {
      "cell_type": "markdown",
      "metadata": {
        "id": "RvbWpcLWuS73"
      },
      "source": [
        "<font color='blue'>numpy.linalg</font> has a standard set of matrix decompositions and things like inverse and determinant. Following table lists some of the commonly used functions in linear algebra.\n",
        "\n",
        "![alt text](https://docs.google.com/uc?export=download&id=1IZZvR34aS31bvE7cQZjdH0CGljjhbbpe)\n",
        "![alt text](https://docs.google.com/uc?export=download&id=1efWlzwezJj9tVt3Fqg-sY7NRuuT4il6Q)"
      ]
    },
    {
      "cell_type": "markdown",
      "metadata": {
        "id": "hPoQfZd1uS73"
      },
      "source": [
        "Let's take a look at some examples."
      ]
    },
    {
      "cell_type": "code",
      "metadata": {
        "id": "zmS7PBcQuS75"
      },
      "source": [
        "X = np.random.randn(4, 4)   # create a 4 by 4 matrix, named X, with some random numbers as its elements\n",
        "print(X)"
      ],
      "execution_count": null,
      "outputs": []
    },
    {
      "cell_type": "code",
      "metadata": {
        "id": "xfyC7NT1uS78"
      },
      "source": [
        "Xinv=np.linalg.inv(X)     # Inverse of matrix X\n",
        "print(Xinv)"
      ],
      "execution_count": null,
      "outputs": []
    },
    {
      "cell_type": "code",
      "metadata": {
        "id": "i21xJOLSuS8A"
      },
      "source": [
        "eigvalues,eigvectors = np.linalg.eig(X)   # Calculate eignevalues and eigenvectors of matrix X\n",
        "print('Eigenvalues=\\n',eigvalues)\n",
        "print('')\n",
        "print('Eigenvectors=\\n',eigvectors)"
      ],
      "execution_count": null,
      "outputs": []
    },
    {
      "cell_type": "code",
      "metadata": {
        "id": "R9XZ9EiyuS8E"
      },
      "source": [
        "determ = np.linalg.det(X)     # Determinant of matrix X\n",
        "print(determ)"
      ],
      "execution_count": null,
      "outputs": []
    },
    {
      "cell_type": "code",
      "metadata": {
        "id": "JnPTYWBMuS8I"
      },
      "source": [
        "Xtr=np.transpose(X)           # comput the transpose of matrix A. Alternatively, you could use X.T\n",
        "print(Xtr)"
      ],
      "execution_count": null,
      "outputs": []
    },
    {
      "cell_type": "markdown",
      "metadata": {
        "id": "mN3jBGpquS8M"
      },
      "source": [
        "<font color='red'>__Question (4)__</font>: Define a 3 by 3 2D array, called __A__, with random numbers sampled from a normal distribution as its elements. Compute:\n",
        "\n",
        "_(a)_ $A^{T}A$\n",
        "\n",
        "_(b)_ $A^{-1}A$"
      ]
    },
    {
      "cell_type": "code",
      "metadata": {
        "id": "rrRq1KubuS8M"
      },
      "source": [
        "## In-Class Assignment\n",
        "\n",
        "\n"
      ],
      "execution_count": null,
      "outputs": []
    },
    {
      "cell_type": "markdown",
      "metadata": {
        "id": "pP5N3yCxuS8Q"
      },
      "source": [
        "## 6. Statistical Methods <a name=\"StatMethod\"></a>\n",
        "\n",
        "A set of mathematical functions that compute statistics about an entire array or about the data along an axis are accessible as methods of the array class. Below is a list of some basic functions you might use.\n",
        "\n",
        "![alt text](https://docs.google.com/uc?export=download&id=1X0SHlMufWUDC561O-mB9K36BGhhwK4EJ)"
      ]
    },
    {
      "cell_type": "code",
      "metadata": {
        "id": "1pi7ptzVuS8Q"
      },
      "source": [
        "arr2d = np.random.randn(5,4)  # creating a 5 by 4 2D array (metrix) with random numbers as its elements\n",
        "print(arr2d)"
      ],
      "execution_count": null,
      "outputs": []
    },
    {
      "cell_type": "code",
      "metadata": {
        "id": "2dp3lYwluS8T"
      },
      "source": [
        "print('Mean value=',np.mean(arr2d))                             # mean value of all the elements\n",
        "print('Mean value along axis 0:',np.mean(arr2d,axis=0))         # computing mean values down the rows\n",
        "print('Mean value along axis 1:',np.mean(arr2d,axis=1))         # computing mean values across the columns\n",
        "print('Sum of all the elements:',np.sum(arr2d))                 # sum of all the elements\n",
        "print('Sum of the elements along axis 0:',np.sum(arr2d,axis=0)) # sum of the elements down the rows"
      ],
      "execution_count": null,
      "outputs": []
    },
    {
      "cell_type": "code",
      "metadata": {
        "id": "jTNKSGhjuS8W"
      },
      "source": [
        "print('standard deviation:',np.std(arr2d))     # compute standard deviation\n",
        "print('variance:',np.var(arr2d))               # compute variance"
      ],
      "execution_count": null,
      "outputs": []
    },
    {
      "cell_type": "markdown",
      "metadata": {
        "id": "a-EaQHYO1i23"
      },
      "source": [
        "<font color='orange'> __Note__:</font> All the statistical functions, listed in the above table, are both _functions_ and _methods_ so they can be used either way. "
      ]
    },
    {
      "cell_type": "code",
      "metadata": {
        "id": "YzAWqyyy10dr"
      },
      "source": [
        "print('Mean value=',arr2d.mean())                            # mean value of all the elements\n",
        "print('Mean value along axis 0:',arr2d.mean(axis=0))         # computing mean values down the rows\n",
        "print('Mean value along axis 1:',arr2d.mean(axis=1))         # computing mean values across the columns\n",
        "print('Sum of all the elements:',arr2d.sum())                # sum of all the elements\n",
        "print('Sum of the elements along axis 0:',arr2d.sum(axis=0)) # sum of the elements down the rows"
      ],
      "execution_count": null,
      "outputs": []
    },
    {
      "cell_type": "markdown",
      "metadata": {
        "id": "IsEKSvh0uS8c"
      },
      "source": [
        "<font color='red'>__Question (5)__</font>: Consider the matrix $B= \\begin{bmatrix} 22, 45, 78, 80 \\\\ 10,8,90,187\\\\11,33,55,99 \\end{bmatrix}$,\n",
        "\n",
        "- Find the sum of all the elements down the rows \n",
        "- Find the minimum and maximum values for each row\n",
        "- Find the standard deviation and variance for each column"
      ]
    },
    {
      "cell_type": "code",
      "metadata": {
        "id": "SO6QJrrtuS8c"
      },
      "source": [
        "## In-Class Assignment\n"
      ],
      "execution_count": null,
      "outputs": []
    },
    {
      "cell_type": "markdown",
      "metadata": {
        "id": "tpV_pr7MuS8f"
      },
      "source": [
        "## 7. Miscellaneous <a name=\"Misc\"></a>\n",
        "\n",
        "### Sorting\n",
        "\n",
        "One thing that cen be very useful when dealing with the data is sorting. __Numpy__ has a sorting function. NumPy arrays can be sorted in-place with the sort method"
      ]
    },
    {
      "cell_type": "code",
      "metadata": {
        "id": "Gi74kXVsuS8f"
      },
      "source": [
        "arr = np.random.randn(6)     # creating a 1D array with 6 elements which are random numbers \n",
        "print(arr)\n",
        "arr.sort()                   # sorting the values from smallest to largest\n",
        "print(arr)"
      ],
      "execution_count": null,
      "outputs": []
    },
    {
      "cell_type": "code",
      "metadata": {
        "id": "AmzjxDa6uS8z"
      },
      "source": [
        "a = np.array([[9,3,7], [3,1,6]])\n",
        "print('2D array:\\n',a)\n",
        "print('')\n",
        "a.sort(axis=0)              # sorting the values across the columns\n",
        "print('2D array with values sorted across the columns:\\n',a)"
      ],
      "execution_count": null,
      "outputs": []
    },
    {
      "cell_type": "markdown",
      "metadata": {
        "id": "JWK24e9buS83"
      },
      "source": [
        "### Flipping\n",
        "\n",
        "We can flip a 2D array upside down or left-to-right."
      ]
    },
    {
      "cell_type": "code",
      "metadata": {
        "id": "0__voqyuuS83"
      },
      "source": [
        "arr2d=np.array([[1,2,3],[4,5,6],[7,8,9]])\n",
        "print(arr2d)"
      ],
      "execution_count": null,
      "outputs": []
    },
    {
      "cell_type": "code",
      "metadata": {
        "id": "6qopCuXauS87"
      },
      "source": [
        "print(np.flipud(arr2d))    # flipping the array upside down\n",
        "print('')\n",
        "print(np.fliplr(arr2d))    # flipping the array left to right"
      ],
      "execution_count": null,
      "outputs": []
    },
    {
      "cell_type": "markdown",
      "metadata": {
        "id": "bV-IVw-suS8_"
      },
      "source": [
        "### Reshaping\n",
        "\n",
        "In many cases, you can convert an array from one shape to another without copying any data. To do this, pass a tuple indicating the new shape to the reshape array method."
      ]
    },
    {
      "cell_type": "code",
      "metadata": {
        "id": "AzD-3fMquS9B"
      },
      "source": [
        "arr = np.arange(8)\n",
        "print(arr)"
      ],
      "execution_count": null,
      "outputs": []
    },
    {
      "cell_type": "code",
      "metadata": {
        "id": "ABQue8rJuS9D"
      },
      "source": [
        "arr2=arr.reshape((4, 2))   # change the array into a 4 by 2 2D array\n",
        "print(arr2)"
      ],
      "execution_count": null,
      "outputs": []
    },
    {
      "cell_type": "markdown",
      "metadata": {
        "id": "2lNOf3rruS9G"
      },
      "source": [
        "A multidimensional array can also be reshaped:"
      ]
    },
    {
      "cell_type": "code",
      "metadata": {
        "id": "mRsLkxiouS9G"
      },
      "source": [
        "arr3=arr.reshape((4, 2)).reshape((2, 4)) # change the array into a 4 by 2 2D array and then change it again to 2 by 4 2D array\n",
        "print(arr)\n",
        "print('')\n",
        "print(arr.reshape((4, 2)))\n",
        "print('')\n",
        "print(arr3)"
      ],
      "execution_count": null,
      "outputs": []
    },
    {
      "cell_type": "markdown",
      "metadata": {
        "id": "rWl-W8fB3qMU"
      },
      "source": [
        "### Copying\n",
        "\n",
        "If you want a copy of an array or a slice of an ndarray instead of a view, you need to explicitly copy the array using <font color='green'>_copy_</font> method."
      ]
    },
    {
      "cell_type": "code",
      "source": [
        "import numpy as np"
      ],
      "metadata": {
        "id": "-QVAoWRM1slf"
      },
      "execution_count": 2,
      "outputs": []
    },
    {
      "cell_type": "code",
      "metadata": {
        "id": "uoWH2wep4Jpd",
        "colab": {
          "base_uri": "https://localhost:8080/"
        },
        "outputId": "002fc8ea-7dd4-4e27-9a28-64474174ce0f"
      },
      "source": [
        "a = np.array([1,2,3,4])\n",
        "b = a                          # This does not copy, it makes a pointer to the same location in the memory\n",
        "print('a=',a)\n",
        "print('b=',b)\n",
        "print('-----------------------')\n",
        "b[0]=2                       # change the value of the first element of b to 2\n",
        "print('b=',b)\n",
        "print('a=',a)"
      ],
      "execution_count": 3,
      "outputs": [
        {
          "output_type": "stream",
          "name": "stdout",
          "text": [
            "a= [1 2 3 4]\n",
            "b= [1 2 3 4]\n",
            "-----------------------\n",
            "b= [2 2 3 4]\n",
            "a= [2 2 3 4]\n"
          ]
        }
      ]
    },
    {
      "cell_type": "code",
      "metadata": {
        "id": "ccK8WA9F4pfE",
        "colab": {
          "base_uri": "https://localhost:8080/"
        },
        "outputId": "23549203-04cd-4905-e3a6-c411d9e5d688"
      },
      "source": [
        "a = np.array([1,2,3,4])\n",
        "b = a.copy()                 # This makes a copy of a\n",
        "print('a=',a)\n",
        "print('b=',b)\n",
        "print('-----------------------')\n",
        "b[0]=2                       # change the value of the first element of b to 2\n",
        "print('b=',b)\n",
        "print('a=',a)"
      ],
      "execution_count": 4,
      "outputs": [
        {
          "output_type": "stream",
          "name": "stdout",
          "text": [
            "a= [1 2 3 4]\n",
            "b= [1 2 3 4]\n",
            "-----------------------\n",
            "b= [2 2 3 4]\n",
            "a= [1 2 3 4]\n"
          ]
        }
      ]
    },
    {
      "cell_type": "markdown",
      "metadata": {
        "id": "6Z5fsI1uBxY9"
      },
      "source": [
        "### Vectors using _linspace_\n",
        "\n",
        "_linspace_ in numpy library is a great command to create 1D vectors. It is commonly used specially when we are trying to plot a function in a specific range.\n",
        "\n",
        "![alt text](https://docs.google.com/uc?export=download&id=1hLGWIFhqPUT7VpEFBZEmyLO5jTavbMuY)"
      ]
    },
    {
      "cell_type": "code",
      "metadata": {
        "id": "cwf_x-DhB8Pc"
      },
      "source": [
        "vec1=np.linspace(0,10,num=11,endpoint=True)\n",
        "print(vec1)"
      ],
      "execution_count": null,
      "outputs": []
    },
    {
      "cell_type": "code",
      "metadata": {
        "id": "fy2m8uEADwIu"
      },
      "source": [
        "vec1,spc=np.linspace(0,10,num=10,endpoint=True,retstep=True)\n",
        "print(vec1)\n",
        "print(spc)"
      ],
      "execution_count": null,
      "outputs": []
    },
    {
      "cell_type": "markdown",
      "metadata": {
        "id": "zwnlPTsouS9K"
      },
      "source": [
        "<font color='red'>__Question (6)__</font>: For this question, use the matrix $B= \\begin{bmatrix} 22, 45, 67, 80 \\\\ 10,7,90,187\\\\11,33,77,99 \\end{bmatrix}$ you defined in the previous question.\n",
        "- Make a copy of the matrix.\n",
        "- Flip the copied array upside down (make sure to save it in a new variable)\n",
        "- Reshape the flipped array into a 2 by 6 2D array."
      ]
    },
    {
      "cell_type": "code",
      "metadata": {
        "id": "ABKVKpj4uS9L"
      },
      "source": [
        "## In-Class Assignment\n"
      ],
      "execution_count": null,
      "outputs": []
    }
  ]
}