{
  "cells": [
    {
      "cell_type": "markdown",
      "metadata": {
        "id": "Pcp02cbe7E-A"
      },
      "source": [
        "# In Class Assignment 3 - ME 364 (Spring 2022)"
      ]
    },
    {
      "cell_type": "markdown",
      "metadata": {
        "id": "pytHWWpc7E-F"
      },
      "source": [
        "<font color='red'>__Question (1)__ </font>: Fit the function $y=\\frac{\\sqrt{4ax+1}-1}{2b}$, where $a$ and $b$ are constants, to 0.1 percent strain per second data set. Follow the steps described above to find the coefficients and print them and also plot the training data, test data, and fitted line on the same plot.\n",
        "\n",
        "Evaluate the model you developed and compare its mean squared error and r-squared score with the second model developed in the class notebook."
      ]
    },
    {
      "cell_type": "code",
      "source": [
        "import pandas as pd\n",
        "import matplotlib.pyplot as plt\n",
        "from scipy.optimize import curve_fit\n",
        "from sklearn.model_selection import train_test_split\n",
        "from sklearn.metrics import mean_squared_error\n",
        "from sklearn.metrics import r2_score\n",
        "from sklearn.preprocessing import PolynomialFeatures\n",
        "from sklearn.linear_model import LinearRegression\n",
        "import numpy as np"
      ],
      "metadata": {
        "id": "m_1Roomj7YA1"
      },
      "execution_count": 2,
      "outputs": []
    },
    {
      "cell_type": "code",
      "execution_count": 1,
      "metadata": {
        "colab": {
          "base_uri": "https://localhost:8080/",
          "height": 206
        },
        "id": "ZHpIKnGF7E-F",
        "outputId": "7e20dcc9-f21e-4422-f6b3-3279ce1494ec"
      },
      "outputs": [
        {
          "output_type": "execute_result",
          "data": {
            "text/plain": [
              "   Strain %  Stress (MPa)\n",
              "0  0.039124      8.887767\n",
              "1  0.057538     10.833070\n",
              "2  0.075990     14.445776\n",
              "3  0.094442     18.058482\n",
              "4  0.112894     21.671188"
            ],
            "text/html": [
              "\n",
              "  <div id=\"df-fb5703f0-bb28-4036-bd35-828487d7c736\">\n",
              "    <div class=\"colab-df-container\">\n",
              "      <div>\n",
              "<style scoped>\n",
              "    .dataframe tbody tr th:only-of-type {\n",
              "        vertical-align: middle;\n",
              "    }\n",
              "\n",
              "    .dataframe tbody tr th {\n",
              "        vertical-align: top;\n",
              "    }\n",
              "\n",
              "    .dataframe thead th {\n",
              "        text-align: right;\n",
              "    }\n",
              "</style>\n",
              "<table border=\"1\" class=\"dataframe\">\n",
              "  <thead>\n",
              "    <tr style=\"text-align: right;\">\n",
              "      <th></th>\n",
              "      <th>Strain %</th>\n",
              "      <th>Stress (MPa)</th>\n",
              "    </tr>\n",
              "  </thead>\n",
              "  <tbody>\n",
              "    <tr>\n",
              "      <th>0</th>\n",
              "      <td>0.039124</td>\n",
              "      <td>8.887767</td>\n",
              "    </tr>\n",
              "    <tr>\n",
              "      <th>1</th>\n",
              "      <td>0.057538</td>\n",
              "      <td>10.833070</td>\n",
              "    </tr>\n",
              "    <tr>\n",
              "      <th>2</th>\n",
              "      <td>0.075990</td>\n",
              "      <td>14.445776</td>\n",
              "    </tr>\n",
              "    <tr>\n",
              "      <th>3</th>\n",
              "      <td>0.094442</td>\n",
              "      <td>18.058482</td>\n",
              "    </tr>\n",
              "    <tr>\n",
              "      <th>4</th>\n",
              "      <td>0.112894</td>\n",
              "      <td>21.671188</td>\n",
              "    </tr>\n",
              "  </tbody>\n",
              "</table>\n",
              "</div>\n",
              "      <button class=\"colab-df-convert\" onclick=\"convertToInteractive('df-fb5703f0-bb28-4036-bd35-828487d7c736')\"\n",
              "              title=\"Convert this dataframe to an interactive table.\"\n",
              "              style=\"display:none;\">\n",
              "        \n",
              "  <svg xmlns=\"http://www.w3.org/2000/svg\" height=\"24px\"viewBox=\"0 0 24 24\"\n",
              "       width=\"24px\">\n",
              "    <path d=\"M0 0h24v24H0V0z\" fill=\"none\"/>\n",
              "    <path d=\"M18.56 5.44l.94 2.06.94-2.06 2.06-.94-2.06-.94-.94-2.06-.94 2.06-2.06.94zm-11 1L8.5 8.5l.94-2.06 2.06-.94-2.06-.94L8.5 2.5l-.94 2.06-2.06.94zm10 10l.94 2.06.94-2.06 2.06-.94-2.06-.94-.94-2.06-.94 2.06-2.06.94z\"/><path d=\"M17.41 7.96l-1.37-1.37c-.4-.4-.92-.59-1.43-.59-.52 0-1.04.2-1.43.59L10.3 9.45l-7.72 7.72c-.78.78-.78 2.05 0 2.83L4 21.41c.39.39.9.59 1.41.59.51 0 1.02-.2 1.41-.59l7.78-7.78 2.81-2.81c.8-.78.8-2.07 0-2.86zM5.41 20L4 18.59l7.72-7.72 1.47 1.35L5.41 20z\"/>\n",
              "  </svg>\n",
              "      </button>\n",
              "      \n",
              "  <style>\n",
              "    .colab-df-container {\n",
              "      display:flex;\n",
              "      flex-wrap:wrap;\n",
              "      gap: 12px;\n",
              "    }\n",
              "\n",
              "    .colab-df-convert {\n",
              "      background-color: #E8F0FE;\n",
              "      border: none;\n",
              "      border-radius: 50%;\n",
              "      cursor: pointer;\n",
              "      display: none;\n",
              "      fill: #1967D2;\n",
              "      height: 32px;\n",
              "      padding: 0 0 0 0;\n",
              "      width: 32px;\n",
              "    }\n",
              "\n",
              "    .colab-df-convert:hover {\n",
              "      background-color: #E2EBFA;\n",
              "      box-shadow: 0px 1px 2px rgba(60, 64, 67, 0.3), 0px 1px 3px 1px rgba(60, 64, 67, 0.15);\n",
              "      fill: #174EA6;\n",
              "    }\n",
              "\n",
              "    [theme=dark] .colab-df-convert {\n",
              "      background-color: #3B4455;\n",
              "      fill: #D2E3FC;\n",
              "    }\n",
              "\n",
              "    [theme=dark] .colab-df-convert:hover {\n",
              "      background-color: #434B5C;\n",
              "      box-shadow: 0px 1px 3px 1px rgba(0, 0, 0, 0.15);\n",
              "      filter: drop-shadow(0px 1px 2px rgba(0, 0, 0, 0.3));\n",
              "      fill: #FFFFFF;\n",
              "    }\n",
              "  </style>\n",
              "\n",
              "      <script>\n",
              "        const buttonEl =\n",
              "          document.querySelector('#df-fb5703f0-bb28-4036-bd35-828487d7c736 button.colab-df-convert');\n",
              "        buttonEl.style.display =\n",
              "          google.colab.kernel.accessAllowed ? 'block' : 'none';\n",
              "\n",
              "        async function convertToInteractive(key) {\n",
              "          const element = document.querySelector('#df-fb5703f0-bb28-4036-bd35-828487d7c736');\n",
              "          const dataTable =\n",
              "            await google.colab.kernel.invokeFunction('convertToInteractive',\n",
              "                                                     [key], {});\n",
              "          if (!dataTable) return;\n",
              "\n",
              "          const docLinkHtml = 'Like what you see? Visit the ' +\n",
              "            '<a target=\"_blank\" href=https://colab.research.google.com/notebooks/data_table.ipynb>data table notebook</a>'\n",
              "            + ' to learn more about interactive tables.';\n",
              "          element.innerHTML = '';\n",
              "          dataTable['output_type'] = 'display_data';\n",
              "          await google.colab.output.renderOutput(dataTable, element);\n",
              "          const docLink = document.createElement('div');\n",
              "          docLink.innerHTML = docLinkHtml;\n",
              "          element.appendChild(docLink);\n",
              "        }\n",
              "      </script>\n",
              "    </div>\n",
              "  </div>\n",
              "  "
            ]
          },
          "metadata": {},
          "execution_count": 1
        }
      ],
      "source": [
        "xlsx ='https://raw.githubusercontent.com/MasoudMiM/ME_364/master/StrainRate_CorticalBone/Cortical_Bone.xlsx'\n",
        "df = pd.read_excel(xlsx,sheet_name='StrainRate_0.1', names=['Strain %','Stress (MPa)'])            \n",
        "\n",
        "df.head()"
      ]
    },
    {
      "cell_type": "code",
      "source": [
        "plt.rcParams['font.size'] = '15'\n",
        "df.plot(kind='scatter',x='Strain %',y='Stress (MPa)',figsize=(7,5))\n",
        "plt.grid(True)\n",
        "\n",
        "\n",
        "x_data=df['Strain %']\n",
        "y_data=df['Stress (MPa)']\n",
        "\n",
        "x_train,x_test,y_train,y_test=train_test_split(x_data,y_data,test_size=0.2,shuffle=True)\n",
        "\n",
        "\n",
        "def my_func(x,a,b):\n",
        "  output=(np.sqrt((4*a*x)+1)-1)/2*b\n",
        "  return output\n",
        "\n",
        "popt, pcov = curve_fit(my_func, x_train, y_train)\n",
        "\n",
        "\n",
        "print(f\" a = {popt[0]:.3f}, b = {popt[1]:.3f}\")\n",
        "\n",
        "yhat=my_func(x_test, popt[0], popt[1])\n",
        "\n",
        "plt.rcParams['font.size'] = '15'\n",
        "plt.figure(figsize=(8,7))\n",
        "\n",
        "#Plotting data\n",
        "plt.scatter(x_train,y_train,color='blue',label='Training Data')\n",
        "plt.scatter(x_test,y_test,color='red',label='Test Data')\n",
        "\n",
        "# Plot fitted curve\n",
        "xplot=np.linspace(0,max(x_train),num=50)\n",
        "yplot=my_func(xplot,popt[0],popt[1])\n",
        "plt.plot(xplot,yplot,color='green', lw=3,label='Fitted Curve')\n",
        "plt.xlabel('Strain (%)')\n",
        "plt.ylabel('Stress (MPa)')\n",
        "plt.legend(loc='best');"
      ],
      "metadata": {
        "colab": {
          "base_uri": "https://localhost:8080/",
          "height": 796
        },
        "id": "fUWGbgzM7yM2",
        "outputId": "36d1efd9-8b07-4199-f094-9174fe39b1cc"
      },
      "execution_count": 5,
      "outputs": [
        {
          "output_type": "stream",
          "name": "stdout",
          "text": [
            " a = 2.094, b = 156.864\n"
          ]
        },
        {
          "output_type": "display_data",
          "data": {
            "text/plain": [
              "<Figure size 504x360 with 1 Axes>"
            ],
            "image/png": "[encoded data removed]"
          },
          "metadata": {
            "needs_background": "light"
          }
        },
        {
          "output_type": "display_data",
          "data": {
            "text/plain": [
              "<Figure size 576x504 with 1 Axes>"
            ],
            "image/png": "[encoded data removed]"
          },
          "metadata": {
            "needs_background": "light"
          }
        }
      ]
    },
    {
      "cell_type": "code",
      "source": [
        "MSETst=mean_squared_error(y_test,yhat)\n",
        "print(f'The value of mean squared error is: {MSETst:0.5f}')\n",
        "\n",
        "r2scoreTst = r2_score(y_test,yhat)\n",
        "print(f'The value of R2 is: {r2scoreTst:0.5f}')"
      ],
      "metadata": {
        "colab": {
          "base_uri": "https://localhost:8080/"
        },
        "id": "HUS5swzy8K6O",
        "outputId": "d17f1800-f99d-4d48-bf94-218f749c00e0"
      },
      "execution_count": 6,
      "outputs": [
        {
          "output_type": "stream",
          "name": "stdout",
          "text": [
            "The value of mean squared error is: 141.60643\n",
            "The value of R2 is: 0.96628\n"
          ]
        }
      ]
    },
    {
      "cell_type": "markdown",
      "metadata": {
        "id": "bC6afonw7E-H"
      },
      "source": [
        "<font color='red'>__Question (2)__</font>: Train a regression model with a 3rd degree polynomial to predict elongation using tensile strength (tension strength). Follow the steps in the class notebook to print the coefficients and plot the fitted line, training data, and test data on the same plot.\n",
        "\n",
        "Find the relative squared error for both test data and training data for the model you developed. \n"
      ]
    },
    {
      "cell_type": "code",
      "execution_count": 11,
      "metadata": {
        "colab": {
          "base_uri": "https://localhost:8080/",
          "height": 206
        },
        "id": "Sv6OkwC57E-H",
        "outputId": "71f15b3c-8a3d-4284-d242-75dcb066b075"
      },
      "outputs": [
        {
          "output_type": "execute_result",
          "data": {
            "text/plain": [
              "   layer_height  wall_thickness  infill_density infill_pattern  \\\n",
              "0          0.02               8              90           grid   \n",
              "1          0.02               7              90      honeycomb   \n",
              "2          0.02               1              80           grid   \n",
              "3          0.02               4              70      honeycomb   \n",
              "4          0.02               6              90           grid   \n",
              "\n",
              "   nozzle_temperature  bed_temperature  print_speed material  fan_speed  \\\n",
              "0                 220               60           40      abs          0   \n",
              "1                 225               65           40      abs         25   \n",
              "2                 230               70           40      abs         50   \n",
              "3                 240               75           40      abs         75   \n",
              "4                 250               80           40      abs        100   \n",
              "\n",
              "   roughness  tension_strenght  elongation  \n",
              "0         25                18         1.2  \n",
              "1         32                16         1.4  \n",
              "2         40                 8         0.8  \n",
              "3         68                10         0.5  \n",
              "4         92                 5         0.7  "
            ],
            "text/html": [
              "\n",
              "  <div id=\"df-7651f08d-70c0-4453-a67b-2dc385eea151\">\n",
              "    <div class=\"colab-df-container\">\n",
              "      <div>\n",
              "<style scoped>\n",
              "    .dataframe tbody tr th:only-of-type {\n",
              "        vertical-align: middle;\n",
              "    }\n",
              "\n",
              "    .dataframe tbody tr th {\n",
              "        vertical-align: top;\n",
              "    }\n",
              "\n",
              "    .dataframe thead th {\n",
              "        text-align: right;\n",
              "    }\n",
              "</style>\n",
              "<table border=\"1\" class=\"dataframe\">\n",
              "  <thead>\n",
              "    <tr style=\"text-align: right;\">\n",
              "      <th></th>\n",
              "      <th>layer_height</th>\n",
              "      <th>wall_thickness</th>\n",
              "      <th>infill_density</th>\n",
              "      <th>infill_pattern</th>\n",
              "      <th>nozzle_temperature</th>\n",
              "      <th>bed_temperature</th>\n",
              "      <th>print_speed</th>\n",
              "      <th>material</th>\n",
              "      <th>fan_speed</th>\n",
              "      <th>roughness</th>\n",
              "      <th>tension_strenght</th>\n",
              "      <th>elongation</th>\n",
              "    </tr>\n",
              "  </thead>\n",
              "  <tbody>\n",
              "    <tr>\n",
              "      <th>0</th>\n",
              "      <td>0.02</td>\n",
              "      <td>8</td>\n",
              "      <td>90</td>\n",
              "      <td>grid</td>\n",
              "      <td>220</td>\n",
              "      <td>60</td>\n",
              "      <td>40</td>\n",
              "      <td>abs</td>\n",
              "      <td>0</td>\n",
              "      <td>25</td>\n",
              "      <td>18</td>\n",
              "      <td>1.2</td>\n",
              "    </tr>\n",
              "    <tr>\n",
              "      <th>1</th>\n",
              "      <td>0.02</td>\n",
              "      <td>7</td>\n",
              "      <td>90</td>\n",
              "      <td>honeycomb</td>\n",
              "      <td>225</td>\n",
              "      <td>65</td>\n",
              "      <td>40</td>\n",
              "      <td>abs</td>\n",
              "      <td>25</td>\n",
              "      <td>32</td>\n",
              "      <td>16</td>\n",
              "      <td>1.4</td>\n",
              "    </tr>\n",
              "    <tr>\n",
              "      <th>2</th>\n",
              "      <td>0.02</td>\n",
              "      <td>1</td>\n",
              "      <td>80</td>\n",
              "      <td>grid</td>\n",
              "      <td>230</td>\n",
              "      <td>70</td>\n",
              "      <td>40</td>\n",
              "      <td>abs</td>\n",
              "      <td>50</td>\n",
              "      <td>40</td>\n",
              "      <td>8</td>\n",
              "      <td>0.8</td>\n",
              "    </tr>\n",
              "    <tr>\n",
              "      <th>3</th>\n",
              "      <td>0.02</td>\n",
              "      <td>4</td>\n",
              "      <td>70</td>\n",
              "      <td>honeycomb</td>\n",
              "      <td>240</td>\n",
              "      <td>75</td>\n",
              "      <td>40</td>\n",
              "      <td>abs</td>\n",
              "      <td>75</td>\n",
              "      <td>68</td>\n",
              "      <td>10</td>\n",
              "      <td>0.5</td>\n",
              "    </tr>\n",
              "    <tr>\n",
              "      <th>4</th>\n",
              "      <td>0.02</td>\n",
              "      <td>6</td>\n",
              "      <td>90</td>\n",
              "      <td>grid</td>\n",
              "      <td>250</td>\n",
              "      <td>80</td>\n",
              "      <td>40</td>\n",
              "      <td>abs</td>\n",
              "      <td>100</td>\n",
              "      <td>92</td>\n",
              "      <td>5</td>\n",
              "      <td>0.7</td>\n",
              "    </tr>\n",
              "  </tbody>\n",
              "</table>\n",
              "</div>\n",
              "      <button class=\"colab-df-convert\" onclick=\"convertToInteractive('df-7651f08d-70c0-4453-a67b-2dc385eea151')\"\n",
              "              title=\"Convert this dataframe to an interactive table.\"\n",
              "              style=\"display:none;\">\n",
              "        \n",
              "  <svg xmlns=\"http://www.w3.org/2000/svg\" height=\"24px\"viewBox=\"0 0 24 24\"\n",
              "       width=\"24px\">\n",
              "    <path d=\"M0 0h24v24H0V0z\" fill=\"none\"/>\n",
              "    <path d=\"M18.56 5.44l.94 2.06.94-2.06 2.06-.94-2.06-.94-.94-2.06-.94 2.06-2.06.94zm-11 1L8.5 8.5l.94-2.06 2.06-.94-2.06-.94L8.5 2.5l-.94 2.06-2.06.94zm10 10l.94 2.06.94-2.06 2.06-.94-2.06-.94-.94-2.06-.94 2.06-2.06.94z\"/><path d=\"M17.41 7.96l-1.37-1.37c-.4-.4-.92-.59-1.43-.59-.52 0-1.04.2-1.43.59L10.3 9.45l-7.72 7.72c-.78.78-.78 2.05 0 2.83L4 21.41c.39.39.9.59 1.41.59.51 0 1.02-.2 1.41-.59l7.78-7.78 2.81-2.81c.8-.78.8-2.07 0-2.86zM5.41 20L4 18.59l7.72-7.72 1.47 1.35L5.41 20z\"/>\n",
              "  </svg>\n",
              "      </button>\n",
              "      \n",
              "  <style>\n",
              "    .colab-df-container {\n",
              "      display:flex;\n",
              "      flex-wrap:wrap;\n",
              "      gap: 12px;\n",
              "    }\n",
              "\n",
              "    .colab-df-convert {\n",
              "      background-color: #E8F0FE;\n",
              "      border: none;\n",
              "      border-radius: 50%;\n",
              "      cursor: pointer;\n",
              "      display: none;\n",
              "      fill: #1967D2;\n",
              "      height: 32px;\n",
              "      padding: 0 0 0 0;\n",
              "      width: 32px;\n",
              "    }\n",
              "\n",
              "    .colab-df-convert:hover {\n",
              "      background-color: #E2EBFA;\n",
              "      box-shadow: 0px 1px 2px rgba(60, 64, 67, 0.3), 0px 1px 3px 1px rgba(60, 64, 67, 0.15);\n",
              "      fill: #174EA6;\n",
              "    }\n",
              "\n",
              "    [theme=dark] .colab-df-convert {\n",
              "      background-color: #3B4455;\n",
              "      fill: #D2E3FC;\n",
              "    }\n",
              "\n",
              "    [theme=dark] .colab-df-convert:hover {\n",
              "      background-color: #434B5C;\n",
              "      box-shadow: 0px 1px 3px 1px rgba(0, 0, 0, 0.15);\n",
              "      filter: drop-shadow(0px 1px 2px rgba(0, 0, 0, 0.3));\n",
              "      fill: #FFFFFF;\n",
              "    }\n",
              "  </style>\n",
              "\n",
              "      <script>\n",
              "        const buttonEl =\n",
              "          document.querySelector('#df-7651f08d-70c0-4453-a67b-2dc385eea151 button.colab-df-convert');\n",
              "        buttonEl.style.display =\n",
              "          google.colab.kernel.accessAllowed ? 'block' : 'none';\n",
              "\n",
              "        async function convertToInteractive(key) {\n",
              "          const element = document.querySelector('#df-7651f08d-70c0-4453-a67b-2dc385eea151');\n",
              "          const dataTable =\n",
              "            await google.colab.kernel.invokeFunction('convertToInteractive',\n",
              "                                                     [key], {});\n",
              "          if (!dataTable) return;\n",
              "\n",
              "          const docLinkHtml = 'Like what you see? Visit the ' +\n",
              "            '<a target=\"_blank\" href=https://colab.research.google.com/notebooks/data_table.ipynb>data table notebook</a>'\n",
              "            + ' to learn more about interactive tables.';\n",
              "          element.innerHTML = '';\n",
              "          dataTable['output_type'] = 'display_data';\n",
              "          await google.colab.output.renderOutput(dataTable, element);\n",
              "          const docLink = document.createElement('div');\n",
              "          docLink.innerHTML = docLinkHtml;\n",
              "          element.appendChild(docLink);\n",
              "        }\n",
              "      </script>\n",
              "    </div>\n",
              "  </div>\n",
              "  "
            ]
          },
          "metadata": {},
          "execution_count": 11
        }
      ],
      "source": [
        "url = 'https://raw.githubusercontent.com/MasoudMiM/ME_364/main/3D_Printer_Data/3DPrinterDataset.csv'   # Link to the 3D printer data set\n",
        "df2 = pd.read_csv(url)\n",
        "\n",
        "df2.head()"
      ]
    },
    {
      "cell_type": "code",
      "source": [
        "x_dataPoly=np.array(df2[['tension_strenght']])\n",
        "y_dataPoly=np.array(df2[['elongation']])\n",
        "\n",
        "x_trainP,x_testP,y_trainP,y_testP=train_test_split(x_dataPoly, y_dataPoly, test_size=0.2, random_state=125)\n",
        "\n",
        "poly3 = PolynomialFeatures(degree=3) \n",
        "x_train_transformedP3 = poly3.fit_transform(x_trainP)\n",
        "x_test_transformedP3 = poly3.fit_transform(x_testP)\n",
        "lmPoly3 = LinearRegression()\n",
        "lmPoly3.fit(x_train_transformedP3, y_trainP)\n",
        "\n",
        "# Predictions\n",
        "yhatP3t=lmPoly3.predict(x_test_transformedP3)\n",
        "yhatP3Tr=lmPoly3.predict(x_train_transformedP3)\n",
        "\n",
        "# Plot fitted curve\n",
        "plt.figure(figsize=(10,8))\n",
        "plt.rc('font',size=16)\n",
        "xplotP=np.linspace(1,38,num=40)\n",
        "yplotP3=lmPoly3.intercept_[0]+lmPoly3.coef_[0][1]*xplotP+lmPoly3.coef_[0][2]*xplotP**2+lmPoly3.coef_[0][3]*xplotP**3\n",
        "plt.plot(xplotP,yplotP3,color='green', lw=3, label='Fitted Curve')\n",
        "\n",
        "# Plot data\n",
        "plt.scatter(x_trainP,y_trainP,color='blue',s=80, label='Training Data')\n",
        "plt.scatter(x_testP,y_testP,color='red',s=80, label='Test Data')\n",
        "plt.xlabel('Elongation (%)')\n",
        "plt.ylabel('Roughness (micro-meter)')\n",
        "plt.legend(loc='best');"
      ],
      "metadata": {
        "colab": {
          "base_uri": "https://localhost:8080/",
          "height": 507
        },
        "id": "6-DNLWWv8U7_",
        "outputId": "d32dd682-21dc-4757-aea0-ce4fae12bb2a"
      },
      "execution_count": 13,
      "outputs": [
        {
          "output_type": "display_data",
          "data": {
            "text/plain": [
              "<Figure size 720x576 with 1 Axes>"
            ],
            "image/png": "[encoded data removed]"
          },
          "metadata": {
            "needs_background": "light"
          }
        }
      ]
    }
  ],
  "metadata": {
    "interpreter": {
      "hash": "fb72153cf54ad77d82f8164c4a554839638aadec43f56da798779a40d43ee9cc"
    },
    "kernelspec": {
      "display_name": "Python 3.9.5 ('base')",
      "language": "python",
      "name": "python3"
    },
    "language_info": {
      "name": "python",
      "version": "3.9.5"
    },
    "orig_nbformat": 4,
    "colab": {
      "name": "In_Class_Assignment_3.ipynb",
      "provenance": []
    }
  },
  "nbformat": 4,
  "nbformat_minor": 0
}